{
 "cells": [
  {
   "cell_type": "code",
   "execution_count": null,
   "metadata": {},
   "outputs": [],
   "source": [
    "from __future__ import print_function\n",
    "import pickle\n",
    "import os.path\n",
    "from googleapiclient.http import MediaFileUpload\n",
    "from googleapiclient.discovery import build\n",
    "from google_auth_oauthlib.flow import InstalledAppFlow\n",
    "from google.auth.transport.requests import Request\n",
    "import os\n",
    "import sys"
   ]
  },
  {
   "cell_type": "code",
   "execution_count": null,
   "metadata": {},
   "outputs": [],
   "source": [
    "%%bash\n",
    "sudo apt-get install dnsutils \n",
    "myip=\"$(dig +short myip.opendns.com @resolver1.opendns.com)\"\n",
    "echo \"My WAN/Public IP address: ${myip}\"\n",
    "echo $myip > myip.txt"
   ]
  },
  {
   "cell_type": "code",
   "execution_count": null,
   "metadata": {},
   "outputs": [],
   "source": [
    "#The following line is only needed for deployment. Don't run it. If you do maybe restart your kernel\n",
    "os.chdir(os.path.dirname(sys.argv[0]))"
   ]
  },
  {
   "cell_type": "code",
   "execution_count": null,
   "metadata": {},
   "outputs": [],
   "source": [
    "isMaster=1;\n",
    "verbose=0;"
   ]
  },
  {
   "cell_type": "markdown",
   "metadata": {},
   "source": [
    "Create template bash script. This script will query your ip, save it to myip.txt and run the python module to update your google drive folder:"
   ]
  },
  {
   "cell_type": "code",
   "execution_count": null,
   "metadata": {},
   "outputs": [],
   "source": [
    "%%bash\n",
    "cat >fetchAndUpdateIP.sh <<EOL\n",
    "#!/bin/bash\n",
    "myip=\"$(dig +short myip.opendns.com @resolver1.opendns.com)\"\n",
    "echo \"My WAN/Public IP address: ${myip}\"\n",
    "echo $myip > myip.txt\n",
    "python3 OUTPUT_PATH/UpdateIpOnGoogleDrive.py\n",
    "EOL\n"
   ]
  },
  {
   "cell_type": "code",
   "execution_count": null,
   "metadata": {},
   "outputs": [],
   "source": [
    "ipFile='myip.txt'"
   ]
  },
  {
   "cell_type": "markdown",
   "metadata": {},
   "source": [
    "## The following cell will access the google drive via the api \n",
    "## When running it for the first time, it will access your drive and ask you to verify the access, which has to be done from a browser. After that it will store the access key and your credentials. Then the module will be able to run from anywhere with the access and token file.  "
   ]
  },
  {
   "cell_type": "code",
   "execution_count": null,
   "metadata": {},
   "outputs": [],
   "source": [
    "# If modifying these scopes, delete the file token.pickle.\n",
    "SCOPES = ['https://www.googleapis.com/auth/drive.file']\n",
    "# Run this script in mastermode\n",
    "def main():\n",
    "    \"\"\"Shows basic usage of the Drive v3 API.\n",
    "    Prints the names and ids of the first 10 files the user has access to.\n",
    "    \"\"\"\n",
    "    creds = None\n",
    "    # The file token.pickle stores the user's access and refresh tokens, and is\n",
    "    # created automatically when the authorization flow completes for the first\n",
    "    # time.\n",
    "    if os.path.exists('token.pickle'):\n",
    "        with open('token.pickle', 'rb') as token:\n",
    "            creds = pickle.load(token)\n",
    "    # If there are no (valid) credentials available, let the user log in.\n",
    "    if not creds or not creds.valid:\n",
    "        if creds and creds.expired and creds.refresh_token:\n",
    "            creds.refresh(Request())\n",
    "        else:\n",
    "            flow = InstalledAppFlow.from_client_secrets_file(\n",
    "                'credentials.json', SCOPES)\n",
    "            creds = flow.run_local_server()\n",
    "        # Save the credentials for the next run\n",
    "        with open('token.pickle', 'wb') as token:\n",
    "            pickle.dump(creds, token)\n",
    "     # Call the Drive v3 API\n",
    "    service = build('drive', 'v3', credentials=creds)\n",
    "    results = service.files().list(\n",
    "        pageSize=10, fields=\"nextPageToken, files(id, name, trashed)\").execute()\n",
    "    items = results.get('files', [])\n",
    "    if not items and verbose:\n",
    "        print('No files found.')\n",
    "    else:\n",
    "        if verbose:\n",
    "            print('Files:')\n",
    "        for item in items:\n",
    "            print(u'{0} ({1}), {2}'.format(item['name'], item['id'],item['trashed'])) \n",
    "            ##Make sure to delete only the old file. If you have other files with the same name they will be deleted, too\n",
    "            if isMaster and not item['trashed'] and item['name']==ipFile:\n",
    "                service.files().delete(fileId=item['id']).execute()\n",
    "            FILES=((ipFile,1),item['id'])  # 1 = Let google drive try to automatically convert your document\n",
    "            file_metadata = {'name': ipFile}\n",
    "            media = MediaFileUpload(ipFile,          ) # you can add your mime type here ~ See google drive api docs \n",
    "            file = service.files().create(body=file_metadata,\n",
    "                                    media_body=media,\n",
    "                                    fields='id').execute()\n",
    "            print ('File ID: %s' % file.get('id'))\n",
    "    return items\n",
    "if __name__ == '__main__':\n",
    "    aa=main()"
   ]
  },
  {
   "cell_type": "markdown",
   "metadata": {},
   "source": [
    "# NOW we deploy the appication to the target in the network\n"
   ]
  },
  {
   "cell_type": "markdown",
   "metadata": {},
   "source": [
    "## 1. Convert this notebook to a python file"
   ]
  },
  {
   "cell_type": "code",
   "execution_count": null,
   "metadata": {},
   "outputs": [],
   "source": [
    "!jupyter nbconvert --to python 'UpdateIpOnGoogleDrive.ipynb' --template=pyCode.tpl\n"
   ]
  },
  {
   "cell_type": "code",
   "execution_count": null,
   "metadata": {},
   "outputs": [],
   "source": [
    "%%bash \n",
    "pipreqs --force ./"
   ]
  },
  {
   "cell_type": "markdown",
   "metadata": {},
   "source": [
    "## 2. Setup deploy template script \n",
    "Here you can change the update interval by changing this line: '*/45 * * * * sh OUTPUT_PATH/fetchAndUpdateIP.sh'.\n",
    "See 'man crontab' for details"
   ]
  },
  {
   "cell_type": "code",
   "execution_count": 36,
   "metadata": {
    "scrolled": true
   },
   "outputs": [],
   "source": [
    "%%bash\n",
    "cat >deploy.sh <<EOL\n",
    "#!/bin/bash\n",
    "scp ./fetchAndUpdateIP.sh myPieUname@myPieIp:OUTPUT_PATH\n",
    "scp ./UpdateIpOnGoogleDrive.py myPieUname@myPieIp:OUTPUT_PATH\n",
    "scp ./requirements.txt myPieUname@myPieIp:OUTPUT_PATH\n",
    "scp ./credentials.json myPieUname@myPieIp:OUTPUT_PATH\n",
    "scp ./token.pickle myPieUname@myPieIp:OUTPUT_PATH\n",
    "ssh myPieUname@myPieIp \"crontab -l > OUTPUT_PATH/tmp.txt & \\\n",
    "echo '*/45 * * * * sh OUTPUT_PATH/fetchAndUpdateIP.sh' | tee -a OUTPUT_PATH/tmp.txt & crontab -u pi OUTPUT_PATH/tmp.txt & \\\n",
    "sudo apt-get install dnsutils & \\\n",
    "python3 -m pip install -r OUTPUT_PATH/requirements.txt\"\n",
    "EOL"
   ]
  },
  {
   "cell_type": "markdown",
   "metadata": {},
   "source": [
    "## 3. Find out your targets ip address. SSH needs to be enabled with your public ssh-key on the remote machine. FYI - https://www.ssh.com/ssh/copy-id "
   ]
  },
  {
   "cell_type": "code",
   "execution_count": null,
   "metadata": {},
   "outputs": [],
   "source": [
    "%%bash\n",
    "outPath='\\/home\\/pi\\/Public' # backslashes are needed to escape the forward slashes in sed. See \"man sed\"\n",
    "targetIp=\"192.168.1.51\"\n",
    "remoteUser='pi'\n",
    "sed -i \"s/OUTPUT_PATH/${outPath}/g\" fetchAndUpdateIP.sh\n",
    "\n",
    "targetIp=\"192.168.1.51\"\n",
    "remoteUser='pi'\n",
    "sed -i \"s/myPieIp/${targetIp}/g\" deploy.sh\n",
    "sed -i \"s/myPieUname/${remoteUser}/g\" deploy.sh\n",
    "sed -i \"s/OUTPUT_PATH/${outPath}/g\" deploy.sh\n"
   ]
  },
  {
   "cell_type": "markdown",
   "metadata": {},
   "source": [
    "## Finally run scripts:"
   ]
  },
  {
   "cell_type": "code",
   "execution_count": null,
   "metadata": {},
   "outputs": [],
   "source": [
    "sh fetchAndUpdateIP.sh\n",
    "sh deploy.sh\n"
   ]
  }
 ],
 "metadata": {
  "kernelspec": {
   "display_name": "Python 3",
   "language": "python",
   "name": "python3"
  },
  "language_info": {
   "codemirror_mode": {
    "name": "ipython",
    "version": 3
   },
   "file_extension": ".py",
   "mimetype": "text/x-python",
   "name": "python",
   "nbconvert_exporter": "python",
   "pygments_lexer": "ipython3",
   "version": "3.6.7"
  }
 },
 "nbformat": 4,
 "nbformat_minor": 2
}
